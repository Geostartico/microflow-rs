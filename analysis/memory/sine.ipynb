{
 "cells": [
  {
   "cell_type": "markdown",
   "id": "8bbab007-c69c-4eb3-8c3f-18ba2739c7f7",
   "metadata": {
    "tags": []
   },
   "source": [
    "# Sine Memory"
   ]
  },
  {
   "cell_type": "markdown",
   "id": "4f9d44c9-8dde-4c26-8001-93880f738447",
   "metadata": {},
   "source": [
    "## Setup"
   ]
  },
  {
   "cell_type": "code",
   "execution_count": null,
   "id": "eec11aa8-547f-4fed-a4c8-18eb09030a29",
   "metadata": {
    "tags": []
   },
   "outputs": [],
   "source": [
    "import pandas as pd\n",
    "import matplotlib.pyplot as plt\n",
    "import seaborn as sns"
   ]
  },
  {
   "cell_type": "markdown",
   "id": "9845fea7-cee7-42c2-9c59-5679b06ed89f",
   "metadata": {},
   "source": [
    "## Flash & RAM Usage"
   ]
  },
  {
   "cell_type": "code",
   "execution_count": null,
   "id": "e894c794-bfae-4301-917a-fcfb3f140415",
   "metadata": {
    "tags": []
   },
   "outputs": [],
   "source": [
    "flash = pd.DataFrame({\n",
    "    'MCU': ['ESP32', 'nRF52840', 'ATSAMV71', 'LM3S6965', 'ATmega328'],\n",
    "    'TFLM': [306.817, 116.352, 0, 0, 0],\n",
    "    'MicroFlow': [100.56, 34.292, 48.0, 34.296, 13.619]\n",
    "})\n",
    "ram = pd.DataFrame({\n",
    "    'MCU': ['ESP32', 'nRF52840', 'ATSAMV71', 'LM3S6965', 'ATmega328'],\n",
    "    'TFLM': [24.424, 45.728, 0, 0, 0],\n",
    "    'MicroFlow': [10.688, 5.296, 6.584, 4.620, 1.706]\n",
    "})\n",
    "\n",
    "flash = flash.melt(id_vars='MCU')\n",
    "ram = ram.melt(id_vars='MCU')\n",
    "\n",
    "fig, ax = plt.subplots(2, layout='constrained')\n",
    "fig.suptitle(\"Sine Memory Usage\")\n",
    "\n",
    "sns.barplot(flash, ax=ax[0], x='MCU', y='value', hue='variable')\n",
    "ax[0].set_ylabel('Usage (kB)')\n",
    "ax[0].set_title('Flash')\n",
    "ax[0].legend();\n",
    "\n",
    "sns.barplot(ram, ax=ax[1], x='MCU', y='value', hue='variable')\n",
    "ax[1].set_ylabel('Usage (kB)')\n",
    "ax[1].set_title('RAM')\n",
    "ax[1].legend();\n",
    "\n",
    "plt.savefig('plots/sine-memory.pdf')\n",
    "plt.show();"
   ]
  }
 ],
 "metadata": {
  "kernelspec": {
   "display_name": "microflow",
   "language": "python",
   "name": "microflow"
  },
  "language_info": {
   "codemirror_mode": {
    "name": "ipython",
    "version": 3
   },
   "file_extension": ".py",
   "mimetype": "text/x-python",
   "name": "python",
   "nbconvert_exporter": "python",
   "pygments_lexer": "ipython3",
   "version": "3.10.9"
  }
 },
 "nbformat": 4,
 "nbformat_minor": 5
}
