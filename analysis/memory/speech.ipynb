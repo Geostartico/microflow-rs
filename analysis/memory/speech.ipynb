{
 "cells": [
  {
   "cell_type": "markdown",
   "id": "8bbab007-c69c-4eb3-8c3f-18ba2739c7f7",
   "metadata": {
    "tags": []
   },
   "source": [
    "# Speech Memory"
   ]
  },
  {
   "cell_type": "markdown",
   "id": "4f9d44c9-8dde-4c26-8001-93880f738447",
   "metadata": {},
   "source": [
    "## Setup"
   ]
  },
  {
   "cell_type": "code",
   "execution_count": null,
   "id": "eec11aa8-547f-4fed-a4c8-18eb09030a29",
   "metadata": {
    "tags": []
   },
   "outputs": [],
   "source": [
    "import pandas as pd\n",
    "import matplotlib.pyplot as plt\n",
    "import seaborn as sns"
   ]
  },
  {
   "cell_type": "markdown",
   "id": "9845fea7-cee7-42c2-9c59-5679b06ed89f",
   "metadata": {},
   "source": [
    "## Flash & RAM Usage"
   ]
  },
  {
   "cell_type": "code",
   "execution_count": null,
   "id": "e894c794-bfae-4301-917a-fcfb3f140415",
   "metadata": {
    "tags": []
   },
   "outputs": [],
   "source": [
    "flash = pd.DataFrame({\n",
    "    'MCU': ['ESP32', 'nRF52840', 'ATSAMV71', 'LM3S6965'] * 2,\n",
    "    'Inference Engine': [*['TFLM'] * 4, *['MicroFlow'] * 4],\n",
    "    'Usage (kB)': [*[341.281, 157.464, 0, 0], *[110.416, 61.804, 73.544, 61.860]]\n",
    "})\n",
    "ram = pd.DataFrame({\n",
    "    'MCU': ['ESP32', 'nRF52840', 'ATSAMV71', 'LM3S6965'] * 2,\n",
    "    'Inference Engine': [*['TFLM'] * 4, *['MicroFlow'] * 4],\n",
    "    'Usage (kB)': [*[42.428, 63.728, 0, 0], *[25.488, 19.552, 21.168, 19.220]]\n",
    "})\n",
    "\n",
    "fig, ax = plt.subplots(2, layout='constrained')\n",
    "fig.get_layout_engine().set(hspace=.1)\n",
    "\n",
    "sns.barplot(flash, ax=ax[0], x='MCU', y='Usage (kB)', hue='Inference Engine', width=.7)\n",
    "ax[0].set_xlabel('')\n",
    "ax[0].set_title('Flash')\n",
    "ax[0].legend()\n",
    "\n",
    "sns.barplot(ram, ax=ax[1], x='MCU', y='Usage (kB)', hue='Inference Engine', width=.7)\n",
    "ax[1].set_xlabel('')\n",
    "ax[1].set_title('RAM')\n",
    "ax[1].legend()\n",
    "\n",
    "plt.savefig('plots/speech-memory.pdf')\n",
    "plt.show()"
   ]
  }
 ],
 "metadata": {
  "kernelspec": {
   "display_name": "microflow",
   "language": "python",
   "name": "microflow"
  },
  "language_info": {
   "codemirror_mode": {
    "name": "ipython",
    "version": 3
   },
   "file_extension": ".py",
   "mimetype": "text/x-python",
   "name": "python",
   "nbconvert_exporter": "python",
   "pygments_lexer": "ipython3",
   "version": "3.10.9"
  }
 },
 "nbformat": 4,
 "nbformat_minor": 5
}
