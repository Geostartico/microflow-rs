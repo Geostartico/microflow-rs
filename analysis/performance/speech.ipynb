{
 "cells": [
  {
   "cell_type": "markdown",
   "id": "6e987910-eeb0-46fe-9650-e962701f51a6",
   "metadata": {
    "tags": []
   },
   "source": [
    "# Speech Performance"
   ]
  },
  {
   "cell_type": "markdown",
   "id": "812a1605-f1c6-4e55-a19d-e334f708d4c2",
   "metadata": {},
   "source": [
    "## Setup"
   ]
  },
  {
   "cell_type": "code",
   "execution_count": null,
   "id": "a0250ec6-017e-4f68-bd88-b5b02dc1e16c",
   "metadata": {
    "tags": []
   },
   "outputs": [],
   "source": [
    "import pandas as pd\n",
    "import matplotlib.pyplot as plt\n",
    "from matplotlib.ticker import FormatStrFormatter\n",
    "import seaborn as sns"
   ]
  },
  {
   "cell_type": "markdown",
   "id": "14b66780-b555-48fb-82cb-0f4b26ac68d2",
   "metadata": {},
   "source": [
    "## ESP32"
   ]
  },
  {
   "cell_type": "code",
   "execution_count": null,
   "id": "afc17494-4359-4500-a4b6-22da30757064",
   "metadata": {
    "tags": []
   },
   "outputs": [],
   "source": [
    "tflm = pd.read_csv('data/speech-esp32-tflm.csv')\n",
    "microflow = pd.read_csv('data/speech-esp32-microflow.csv')\n",
    "tflm.time /= 1000\n",
    "microflow.time /= 1000\n",
    "\n",
    "fig, ax = plt.subplots(1, 2, figsize=(8, 3), layout='constrained')\n",
    "top_limit = 30\n",
    "\n",
    "sns.histplot(tflm.time, ax=ax[0])\n",
    "start, end = ax[0].get_xlim()\n",
    "median = tflm.time.median()\n",
    "ax[0].axvline(median, color='red', label='Median')\n",
    "ax[0].set_xlabel(\"Execution Time (ms)\")\n",
    "ax[0].set_xticks((start, median, end))\n",
    "ax[0].xaxis.set_major_formatter(FormatStrFormatter('%.2f'))\n",
    "ax[0].set_ylim(top=top_limit)\n",
    "ax[0].set_title(\"TFLM\")\n",
    "ax[0].legend()\n",
    "\n",
    "sns.histplot(microflow.time, ax=ax[1])\n",
    "start, end = ax[1].get_xlim()\n",
    "median = microflow.time.median()\n",
    "ax[1].axvline(median, color='red', label='Median')\n",
    "ax[1].set_xlabel(\"Execution Time (ms)\")\n",
    "ax[1].set_xticks((start, median, end))\n",
    "ax[1].xaxis.set_major_formatter(FormatStrFormatter('%.2f'))\n",
    "ax[1].set_ylim(top=top_limit)\n",
    "ax[1].set_title(\"MicroFlow\")\n",
    "ax[1].legend()\n",
    "\n",
    "plt.savefig('plots/speech-esp32-performance.pdf')\n",
    "plt.show()"
   ]
  },
  {
   "cell_type": "markdown",
   "id": "0dafe385-ab7b-4488-9eb3-b23202c4787b",
   "metadata": {},
   "source": [
    "## nRF52840"
   ]
  },
  {
   "cell_type": "code",
   "execution_count": null,
   "id": "58db7c12-52e2-4a71-b22c-78e46c88d8ab",
   "metadata": {
    "tags": []
   },
   "outputs": [],
   "source": [
    "tflm = pd.read_csv('data/speech-nrf52840-tflm.csv')\n",
    "microflow = pd.read_csv('data/speech-nrf52840-microflow.csv')\n",
    "tflm.time /= 1000\n",
    "microflow.time /= 1000\n",
    "\n",
    "fig, ax = plt.subplots(1, 2, figsize=(8, 3), layout='constrained')\n",
    "top_limit = 30\n",
    "\n",
    "sns.histplot(tflm.time, ax=ax[0])\n",
    "start, end = ax[0].get_xlim()\n",
    "median = tflm.time.median()\n",
    "ax[0].axvline(median, color='red', label='Median')\n",
    "ax[0].set_xlabel(\"Execution Time (ms)\")\n",
    "ax[0].set_xticks((start, median, end))\n",
    "ax[0].xaxis.set_major_formatter(FormatStrFormatter('%.2f'))\n",
    "ax[0].set_ylim(top=top_limit)\n",
    "ax[0].set_title(\"TFLM\")\n",
    "ax[0].legend()\n",
    "\n",
    "sns.histplot(microflow.time, ax=ax[1])\n",
    "start, end = ax[1].get_xlim()\n",
    "median = microflow.time.median()\n",
    "ax[1].axvline(median, color='red', label='Median')\n",
    "ax[1].set_xlabel(\"Execution Time (ms)\")\n",
    "ax[1].set_xticks((start, median, end))\n",
    "ax[1].xaxis.set_major_formatter(FormatStrFormatter('%.2f'))\n",
    "ax[1].set_ylim(top=top_limit)\n",
    "ax[1].set_title(\"MicroFlow\")\n",
    "ax[1].legend()\n",
    "\n",
    "plt.savefig('plots/speech-nrf52840-performance.pdf')\n",
    "plt.show()"
   ]
  }
 ],
 "metadata": {
  "kernelspec": {
   "display_name": "microflow",
   "language": "python",
   "name": "microflow"
  },
  "language_info": {
   "codemirror_mode": {
    "name": "ipython",
    "version": 3
   },
   "file_extension": ".py",
   "mimetype": "text/x-python",
   "name": "python",
   "nbconvert_exporter": "python",
   "pygments_lexer": "ipython3",
   "version": "3.10.9"
  }
 },
 "nbformat": 4,
 "nbformat_minor": 5
}
