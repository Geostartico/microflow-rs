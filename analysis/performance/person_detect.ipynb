{
 "cells": [
  {
   "cell_type": "markdown",
   "id": "6e987910-eeb0-46fe-9650-e962701f51a6",
   "metadata": {
    "tags": []
   },
   "source": [
    "# Person Detect Performance"
   ]
  },
  {
   "cell_type": "markdown",
   "id": "812a1605-f1c6-4e55-a19d-e334f708d4c2",
   "metadata": {},
   "source": [
    "## Setup"
   ]
  },
  {
   "cell_type": "code",
   "execution_count": null,
   "id": "a0250ec6-017e-4f68-bd88-b5b02dc1e16c",
   "metadata": {
    "tags": []
   },
   "outputs": [],
   "source": [
    "import pandas as pd\n",
    "import matplotlib.pyplot as plt\n",
    "from matplotlib.ticker import FormatStrFormatter\n",
    "import seaborn as sns"
   ]
  },
  {
   "cell_type": "markdown",
   "id": "14b66780-b555-48fb-82cb-0f4b26ac68d2",
   "metadata": {},
   "source": [
    "## ESP32"
   ]
  },
  {
   "cell_type": "code",
   "execution_count": null,
   "id": "afc17494-4359-4500-a4b6-22da30757064",
   "metadata": {
    "tags": []
   },
   "outputs": [],
   "source": [
    "tflm_esp32 = pd.read_csv('data/person-detect-esp32-tflm.csv')\n",
    "microflow_esp32 = pd.read_csv('data/person-detect-esp32-microflow.csv')\n",
    "tflm_esp32.time /= 1000\n",
    "microflow_esp32.time /= 1000\n",
    "\n",
    "fig, ax = plt.subplots(1, 2, figsize=(8, 3), layout='constrained')\n",
    "fig.suptitle(\"Person Detector Model on the ESP32\")\n",
    "top_limit = 35\n",
    "\n",
    "sns.histplot(tflm_esp32.time, ax=ax[0])\n",
    "start, end = ax[0].get_xlim()\n",
    "median = tflm_esp32.time.median()\n",
    "ax[0].axvline(median, color='red', label='Median')\n",
    "ax[0].set_xlabel('Execution Time (ms)')\n",
    "ax[0].set_xticks((start, median, end))\n",
    "ax[0].set_ylim(top=top_limit)\n",
    "ax[0].set_title('TFLM')\n",
    "ax[0].legend()\n",
    "\n",
    "sns.histplot(microflow_esp32.time, ax=ax[1])\n",
    "start, end = ax[1].get_xlim()\n",
    "median = microflow_esp32.time.median()\n",
    "ax[1].axvline(median, color='red', label='Median')\n",
    "ax[1].set_xlabel('Execution Time (ms)')\n",
    "ax[1].set_xticks((start, median, end))\n",
    "ax[1].set_ylim(top=top_limit)\n",
    "ax[1].set_title('MicroFlow')\n",
    "ax[1].legend()\n",
    "\n",
    "plt.savefig('plots/person-detect-esp32-performance.pdf')\n",
    "plt.show()"
   ]
  },
  {
   "cell_type": "markdown",
   "id": "0dafe385-ab7b-4488-9eb3-b23202c4787b",
   "metadata": {},
   "source": [
    "## nRF52840"
   ]
  },
  {
   "cell_type": "code",
   "execution_count": null,
   "id": "58db7c12-52e2-4a71-b22c-78e46c88d8ab",
   "metadata": {
    "tags": []
   },
   "outputs": [],
   "source": [
    "tflm_nrf52840 = pd.read_csv('data/person-detect-nrf52840-tflm.csv')\n",
    "microflow_nrf52840 = pd.read_csv('data/person-detect-nrf52840-microflow.csv')\n",
    "tflm_nrf52840.time /= 1000\n",
    "microflow_nrf52840.time /= 1000\n",
    "\n",
    "fig, ax = plt.subplots(1, 2, figsize=(8, 3), layout='constrained')\n",
    "fig.suptitle(\"Person Detector Model on the nRF52840\")\n",
    "top_limit = 30\n",
    "\n",
    "sns.histplot(tflm_nrf52840.time, ax=ax[0])\n",
    "start, end = ax[0].get_xlim()\n",
    "median = tflm_nrf52840.time.median()\n",
    "ax[0].axvline(median, color='red', label='Median')\n",
    "ax[0].set_xlabel('Execution Time (ms)')\n",
    "ax[0].set_xticks((start, median, end))\n",
    "ax[0].xaxis.set_major_formatter(FormatStrFormatter('%.2f'))\n",
    "ax[0].set_ylim(top=top_limit)\n",
    "ax[0].set_title('TFLM')\n",
    "ax[0].legend(loc='upper left')\n",
    "\n",
    "sns.histplot(microflow_nrf52840.time, ax=ax[1])\n",
    "start, end = ax[1].get_xlim()\n",
    "median = microflow_nrf52840.time.median()\n",
    "ax[1].axvline(median, color='red', label='Median')\n",
    "ax[1].set_xlabel('Execution Time (ms)')\n",
    "ax[1].set_xticks((start, median, end))\n",
    "ax[1].xaxis.set_major_formatter(FormatStrFormatter('%.2f'))\n",
    "ax[1].set_ylim(top=top_limit)\n",
    "ax[1].set_title('MicroFlow')\n",
    "ax[1].legend()\n",
    "\n",
    "plt.savefig('plots/person-detect-nrf52840-performance.pdf')\n",
    "plt.show()"
   ]
  },
  {
   "cell_type": "markdown",
   "id": "9c3958ca-4c89-483b-be63-200453c9b0f0",
   "metadata": {},
   "source": [
    "## Comparison"
   ]
  },
  {
   "cell_type": "code",
   "execution_count": null,
   "id": "5eb9b8ed-7018-4031-9011-7aa4ceb05822",
   "metadata": {
    "tags": []
   },
   "outputs": [],
   "source": [
    "data = pd.DataFrame({\n",
    "    'MCU': [*['ESP32'] * 200, *['nRF52840'] * 200],\n",
    "    'Inference Engine': [*['TFLM'] * 100, *['MicroFlow'] * 100] * 2,\n",
    "    'Execution Time (ms)': [*tflm_esp32.time, *microflow_esp32.time, *tflm_nrf52840.time, *microflow_nrf52840.time]\n",
    "})\n",
    "\n",
    "plt.figure(figsize=(8, 3), layout='constrained')\n",
    "sns.barplot(\n",
    "    data=data,\n",
    "    x='Execution Time (ms)',\n",
    "    y='MCU',\n",
    "    hue='Inference Engine',\n",
    "    estimator='median',\n",
    "    errorbar='pi',\n",
    "    capsize=.1,\n",
    "    errwidth=2,\n",
    "    width=.7\n",
    ")\n",
    "plt.ylabel('')\n",
    "plt.legend()\n",
    "plt.savefig('plots/person-detect-performance-comparison.pdf')\n",
    "plt.show()"
   ]
  }
 ],
 "metadata": {
  "kernelspec": {
   "display_name": "microflow",
   "language": "python",
   "name": "microflow"
  },
  "language_info": {
   "codemirror_mode": {
    "name": "ipython",
    "version": 3
   },
   "file_extension": ".py",
   "mimetype": "text/x-python",
   "name": "python",
   "nbconvert_exporter": "python",
   "pygments_lexer": "ipython3",
   "version": "3.10.9"
  }
 },
 "nbformat": 4,
 "nbformat_minor": 5
}
