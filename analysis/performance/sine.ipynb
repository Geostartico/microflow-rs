{
 "cells": [
  {
   "cell_type": "markdown",
   "id": "6e987910-eeb0-46fe-9650-e962701f51a6",
   "metadata": {
    "tags": []
   },
   "source": [
    "# Sine Performance"
   ]
  },
  {
   "cell_type": "markdown",
   "id": "812a1605-f1c6-4e55-a19d-e334f708d4c2",
   "metadata": {},
   "source": [
    "## Setup"
   ]
  },
  {
   "cell_type": "code",
   "execution_count": null,
   "id": "a0250ec6-017e-4f68-bd88-b5b02dc1e16c",
   "metadata": {
    "tags": []
   },
   "outputs": [],
   "source": [
    "import pandas as pd\n",
    "import matplotlib.pyplot as plt\n",
    "import seaborn as sns"
   ]
  },
  {
   "cell_type": "markdown",
   "id": "b12f59e8-8cca-453d-b933-7563ec316ea5",
   "metadata": {},
   "source": [
    "## ESP32"
   ]
  },
  {
   "cell_type": "code",
   "execution_count": null,
   "id": "afc17494-4359-4500-a4b6-22da30757064",
   "metadata": {
    "tags": []
   },
   "outputs": [],
   "source": [
    "tflm_esp32 = pd.read_csv('data/sine-esp32-tflm.csv')\n",
    "microflow_esp32 = pd.read_csv('data/sine-esp32-microflow.csv')\n",
    "\n",
    "fig, ax = plt.subplots(1, 2, figsize=(8, 3), layout='constrained')\n",
    "top_limit = 30\n",
    "\n",
    "sns.histplot(tflm_esp32.time, ax=ax[0])\n",
    "start, end = ax[0].get_xlim()\n",
    "median = tflm_esp32.time.median()\n",
    "ax[0].axvline(median, color='red', label='Median')\n",
    "ax[0].set_xlabel('Execution Time (µs)')\n",
    "ax[0].set_xticks((start, median, end))\n",
    "ax[0].set_ylim(top=top_limit)\n",
    "ax[0].set_title('TFLM')\n",
    "ax[0].legend()\n",
    "\n",
    "sns.histplot(microflow_esp32.time, ax=ax[1])\n",
    "start, end = ax[1].get_xlim()\n",
    "median = microflow_esp32.time.median()\n",
    "ax[1].axvline(median, color='red', label='Median')\n",
    "ax[1].set_xlabel('Execution Time (µs)')\n",
    "ax[1].set_xticks((start, median, end))\n",
    "ax[1].set_ylim(top=top_limit)\n",
    "ax[1].set_title('MicroFlow')\n",
    "ax[1].legend()\n",
    "\n",
    "plt.savefig('plots/sine-esp32-performance.pdf')\n",
    "plt.show()"
   ]
  },
  {
   "cell_type": "markdown",
   "id": "0dafe385-ab7b-4488-9eb3-b23202c4787b",
   "metadata": {},
   "source": [
    "## nRF52840"
   ]
  },
  {
   "cell_type": "code",
   "execution_count": null,
   "id": "58db7c12-52e2-4a71-b22c-78e46c88d8ab",
   "metadata": {
    "tags": []
   },
   "outputs": [],
   "source": [
    "tflm_nrf52840 = pd.read_csv('data/sine-nrf52840-tflm.csv')\n",
    "microflow_nrf52840 = pd.read_csv('data/sine-nrf52840-microflow.csv')\n",
    "\n",
    "fig, ax = plt.subplots(1, 2, figsize=(8, 3), layout='constrained')\n",
    "top_limit = 70\n",
    "\n",
    "sns.histplot(tflm_nrf52840.time, ax=ax[0])\n",
    "start, end = ax[0].get_xlim()\n",
    "median = tflm_nrf52840.time.median()\n",
    "ax[0].axvline(median, color='red', label='Median')\n",
    "ax[0].set_xlabel('Execution Time (µs)')\n",
    "ax[0].set_xticks((start-10, median, end))\n",
    "ax[0].set_ylim(top=top_limit)\n",
    "ax[0].set_title('TFLM')\n",
    "ax[0].legend()\n",
    "\n",
    "sns.histplot(microflow_nrf52840.time, ax=ax[1])\n",
    "start, end = ax[1].get_xlim()\n",
    "median = microflow_nrf52840.time.median()\n",
    "ax[1].axvline(median, color='red', label='Median')\n",
    "ax[1].set_xlabel('Execution Time (µs)')\n",
    "ax[1].set_xticks((start, median, end))\n",
    "ax[1].set_ylim(top=top_limit)\n",
    "ax[1].set_title('MicroFlow')\n",
    "ax[1].legend()\n",
    "\n",
    "plt.savefig('plots/sine-nrf52840-performance.pdf')\n",
    "plt.show()"
   ]
  },
  {
   "cell_type": "markdown",
   "id": "aa69dde0-822f-41f4-92a4-90dfcdb19453",
   "metadata": {},
   "source": [
    "## Comparison"
   ]
  },
  {
   "cell_type": "code",
   "execution_count": null,
   "id": "96a49dd9-e2c1-4970-8212-7485afd6bd49",
   "metadata": {
    "tags": []
   },
   "outputs": [],
   "source": [
    "data = pd.DataFrame({\n",
    "    'MCU': [*['ESP32'] * 200, *['nRF52840'] * 200],\n",
    "    'Inference Engine': [*['TFLM'] * 100, *['MicroFlow'] * 100] * 2,\n",
    "    'Execution Time (µs)': [*tflm_esp32.time, *microflow_esp32.time, *tflm_nrf52840.time, *microflow_nrf52840.time]\n",
    "})\n",
    "\n",
    "plt.figure(figsize=(8, 3), layout='constrained')\n",
    "sns.barplot(\n",
    "    data=data,\n",
    "    x='Execution Time (µs)',\n",
    "    y='MCU',\n",
    "    hue='Inference Engine',\n",
    "    estimator='median',\n",
    "    errorbar='pi',\n",
    "    capsize=.1,\n",
    "    errwidth=2\n",
    ")\n",
    "plt.ylabel('')\n",
    "plt.legend()\n",
    "plt.savefig('plots/sine-performance-comparison.pdf')\n",
    "plt.show()"
   ]
  }
 ],
 "metadata": {
  "kernelspec": {
   "display_name": "microflow",
   "language": "python",
   "name": "microflow"
  },
  "language_info": {
   "codemirror_mode": {
    "name": "ipython",
    "version": 3
   },
   "file_extension": ".py",
   "mimetype": "text/x-python",
   "name": "python",
   "nbconvert_exporter": "python",
   "pygments_lexer": "ipython3",
   "version": "3.10.9"
  }
 },
 "nbformat": 4,
 "nbformat_minor": 5
}
