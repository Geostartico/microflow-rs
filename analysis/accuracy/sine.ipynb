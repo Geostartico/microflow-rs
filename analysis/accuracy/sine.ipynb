{
 "cells": [
  {
   "cell_type": "markdown",
   "id": "1865db15-5f71-4bcb-a0c9-7a28e114a5b8",
   "metadata": {},
   "source": [
    "# Sine Accuracy"
   ]
  },
  {
   "cell_type": "markdown",
   "id": "b0af9742-26ba-45cb-a72a-2803b4087175",
   "metadata": {
    "tags": []
   },
   "source": [
    "## Setup"
   ]
  },
  {
   "cell_type": "code",
   "execution_count": null,
   "id": "cc1141ab-13e8-466d-9b79-dc41e3d2d267",
   "metadata": {
    "tags": []
   },
   "outputs": [],
   "source": [
    "import pandas as pd\n",
    "import matplotlib.pyplot as plt"
   ]
  },
  {
   "cell_type": "markdown",
   "id": "3ba07279-a4e1-4c33-91c3-ff0ec9df4b36",
   "metadata": {},
   "source": [
    "## Test Set"
   ]
  },
  {
   "cell_type": "code",
   "execution_count": null,
   "id": "2cec1e83-ce72-40db-ab3e-e5375debf9b0",
   "metadata": {
    "tags": []
   },
   "outputs": [],
   "source": [
    "test_set = pd.read_csv('data/sine-test-set.csv')\n",
    "\n",
    "plt.plot(test_set.x, test_set.y, '.')\n",
    "plt.title(\"Test Set\")\n",
    "plt.savefig('plots/sine-test-set.pdf')\n",
    "plt.show()"
   ]
  },
  {
   "cell_type": "markdown",
   "id": "535f621d-7360-4d6e-b48d-3281819653a6",
   "metadata": {},
   "source": [
    "## Predictions"
   ]
  },
  {
   "cell_type": "code",
   "execution_count": null,
   "id": "baeda57c-d802-4675-ade6-6f9a707ce246",
   "metadata": {
    "tags": []
   },
   "outputs": [],
   "source": [
    "tflite = pd.read_csv('data/sine-tflite.csv')\n",
    "microflow = pd.read_csv('data/sine-microflow.csv')\n",
    "\n",
    "fig, ax = plt.subplots(1, 2, figsize=(16, 6))\n",
    "fig.suptitle(\"Sine Accuracy\")\n",
    "\n",
    "ax[0].plot(test_set.x, test_set.y, '.', label=\"Actual values\")\n",
    "ax[0].plot(tflite.x, tflite.y, '.', label=\"TFLite predictions\")\n",
    "ax[0].set_title(\"TensorFlow Lite\")\n",
    "ax[0].legend()\n",
    "\n",
    "ax[1].plot(test_set.x, test_set.y, '.', label=\"Actual values\")\n",
    "ax[1].plot(microflow.x, microflow.y, '.', label=\"MicroFlow predictions\")\n",
    "ax[1].set_title(\"MicroFlow\")\n",
    "ax[1].legend()\n",
    "\n",
    "plt.savefig('plots/sine-accuracy.pdf')\n",
    "plt.show()"
   ]
  },
  {
   "cell_type": "markdown",
   "id": "d5c5adab-ce31-4fcd-9274-79ab15d68d8e",
   "metadata": {},
   "source": [
    "## Comparison"
   ]
  },
  {
   "cell_type": "code",
   "execution_count": null,
   "id": "bed0f6a0-ca18-4fc1-9010-b200fd6546f8",
   "metadata": {
    "tags": []
   },
   "outputs": [],
   "source": [
    "plt.plot(test_set.x, test_set.y, '.', label=\"Actual values\")\n",
    "plt.plot(tflite.x, tflite.y, '.', label=\"TFLite predictions\")\n",
    "plt.plot(microflow.x, microflow.y, '.', label=\"MicroFlow predictions\")\n",
    "plt.title(\"Sine Accuracy Comparison\")\n",
    "plt.legend()\n",
    "plt.savefig('plots/sine-accuracy-comparison.pdf')\n",
    "plt.show()"
   ]
  }
 ],
 "metadata": {
  "kernelspec": {
   "display_name": "microflow",
   "language": "python",
   "name": "microflow"
  },
  "language_info": {
   "codemirror_mode": {
    "name": "ipython",
    "version": 3
   },
   "file_extension": ".py",
   "mimetype": "text/x-python",
   "name": "python",
   "nbconvert_exporter": "python",
   "pygments_lexer": "ipython3",
   "version": "3.10.9"
  }
 },
 "nbformat": 4,
 "nbformat_minor": 5
}
