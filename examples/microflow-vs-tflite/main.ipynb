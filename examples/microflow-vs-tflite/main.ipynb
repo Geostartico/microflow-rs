{
 "cells": [
  {
   "cell_type": "markdown",
   "id": "1865db15-5f71-4bcb-a0c9-7a28e114a5b8",
   "metadata": {},
   "source": [
    "# MicroFlow vs TensorFlow Lite"
   ]
  },
  {
   "cell_type": "markdown",
   "id": "b0af9742-26ba-45cb-a72a-2803b4087175",
   "metadata": {
    "tags": []
   },
   "source": [
    "## Setup Environment"
   ]
  },
  {
   "cell_type": "code",
   "execution_count": null,
   "id": "cc1141ab-13e8-466d-9b79-dc41e3d2d267",
   "metadata": {},
   "outputs": [],
   "source": [
    "import os\n",
    "os.environ[\"TF_CPP_MIN_LOG_LEVEL\"] = \"2\"\n",
    "import tensorflow as tf\n",
    "tf.get_logger().setLevel(\"WARNING\")\n",
    "import numpy as np\n",
    "import pandas as pd\n",
    "import matplotlib.pyplot as plt\n",
    "import math\n",
    "\n",
    "seed = 1\n",
    "np.random.seed(seed)"
   ]
  },
  {
   "cell_type": "markdown",
   "id": "3ba07279-a4e1-4c33-91c3-ff0ec9df4b36",
   "metadata": {},
   "source": [
    "## Generate Dataset"
   ]
  },
  {
   "cell_type": "code",
   "execution_count": null,
   "id": "2cec1e83-ce72-40db-ab3e-e5375debf9b0",
   "metadata": {
    "tags": []
   },
   "outputs": [],
   "source": [
    "SAMPLES = 500\n",
    "\n",
    "x = np.random.uniform(low=0, high=2*math.pi, size=SAMPLES).astype(np.float32)\n",
    "np.random.shuffle(x)\n",
    "y = np.sin(x).astype(np.float32)\n",
    "y += 0.1 * np.random.randn(*y.shape)\n",
    "\n",
    "plt.plot(x, y, '.')\n",
    "plt.show()"
   ]
  },
  {
   "cell_type": "markdown",
   "id": "535f621d-7360-4d6e-b48d-3281819653a6",
   "metadata": {},
   "source": [
    "## Run TensorFlow Lite"
   ]
  },
  {
   "cell_type": "code",
   "execution_count": null,
   "id": "baeda57c-d802-4675-ade6-6f9a707ce246",
   "metadata": {},
   "outputs": [],
   "source": [
    "x_test = x.copy()\n",
    "\n",
    "interpreter = tf.lite.Interpreter(model_path=\"../models/sine.tflite\", experimental_op_resolver_type=tf.lite.experimental.OpResolverType.BUILTIN_REF)\n",
    "interpreter.allocate_tensors()\n",
    "\n",
    "input_details = interpreter.get_input_details()[0]\n",
    "output_details = interpreter.get_output_details()[0]\n",
    "\n",
    "input_scale, input_zero_point = input_details[\"quantization\"]\n",
    "if (input_scale, input_zero_point) != (0.0, 0):\n",
    "    x_test = x_test / input_scale + input_zero_point\n",
    "    x_test = x_test.astype(input_details[\"dtype\"])\n",
    "    \n",
    "y_pred = np.empty(x_test.size, dtype=output_details[\"dtype\"])\n",
    "for i in range(len(x_test)):\n",
    "    interpreter.set_tensor(input_details[\"index\"], [[x_test[i]]])\n",
    "    interpreter.invoke()\n",
    "    y_pred[i] = interpreter.get_tensor(output_details[\"index\"])[0]\n",
    "    \n",
    "output_scale, output_zero_point = output_details[\"quantization\"]\n",
    "if (output_scale, output_zero_point) != (0.0, 0):\n",
    "    y_pred = y_pred.astype(np.float32)\n",
    "    y_pred = (y_pred - output_zero_point) * output_scale\n",
    "    \n",
    "pd.DataFrame(zip(x, y_pred), columns=[\"x\", \"y_pred\"]).to_csv(\"tflite.csv\", index=False)\n",
    "    \n",
    "plt.plot(x, y, \".\", label=\"Actual values\")\n",
    "plt.plot(x, y_pred, \".\", label=\"TFLite predictions\")\n",
    "plt.legend()\n",
    "plt.show()"
   ]
  },
  {
   "cell_type": "markdown",
   "id": "e2d648b2-d8a3-4133-85a4-8888ef17c0cb",
   "metadata": {},
   "source": [
    "## Run MicroFlow"
   ]
  },
  {
   "cell_type": "code",
   "execution_count": null,
   "id": "33186c7b-9c23-4a88-975f-aaeb95429508",
   "metadata": {
    "tags": []
   },
   "outputs": [],
   "source": [
    "! cd ../.. && cargo run --example=microflow-vs-tflite\n",
    "\n",
    "microflow = pd.read_csv(\"microflow.csv\")\n",
    "\n",
    "plt.plot(x, y, \".\", label=\"Actual values\")\n",
    "plt.plot(x, microflow.y_pred, \".\", label=\"MicroFlow predictions\")\n",
    "plt.legend()\n",
    "plt.show()"
   ]
  },
  {
   "cell_type": "markdown",
   "id": "d5c5adab-ce31-4fcd-9274-79ab15d68d8e",
   "metadata": {},
   "source": [
    "## Compare Results"
   ]
  },
  {
   "cell_type": "code",
   "execution_count": null,
   "id": "bed0f6a0-ca18-4fc1-9010-b200fd6546f8",
   "metadata": {},
   "outputs": [],
   "source": [
    "plt.plot(x, y, \".\", label=\"Actual values\")\n",
    "plt.plot(x, y_pred, \".\", label=\"TFLite predictions\")\n",
    "plt.plot(x, microflow.y_pred, \".\", label=\"MicroFlow predictions\")\n",
    "plt.legend()\n",
    "plt.show()\n",
    "\n",
    "pd.DataFrame.from_records(\n",
    "    [[np.square(np.subtract(y, y_pred)).mean()],\n",
    "    [np.square(np.subtract(y, microflow.y_pred)).mean()]],\n",
    "    columns=[\"MSE\"],\n",
    "    index=[\"TensorFlow Lite\", \"MicroFlow\"]\n",
    ").round(4)"
   ]
  },
  {
   "cell_type": "code",
   "execution_count": null,
   "id": "b9923b1c-5971-425b-afcc-600325f44478",
   "metadata": {},
   "outputs": [],
   "source": []
  }
 ],
 "metadata": {
  "kernelspec": {
   "display_name": "microflow",
   "language": "python",
   "name": "microflow"
  },
  "language_info": {
   "codemirror_mode": {
    "name": "ipython",
    "version": 3
   },
   "file_extension": ".py",
   "mimetype": "text/x-python",
   "name": "python",
   "nbconvert_exporter": "python",
   "pygments_lexer": "ipython3",
   "version": "3.10.9"
  }
 },
 "nbformat": 4,
 "nbformat_minor": 5
}
